{
 "cells": [
  {
   "cell_type": "code",
   "execution_count": 1,
   "id": "e45c5c49-139b-47e8-abcc-c822f633f77e",
   "metadata": {},
   "outputs": [],
   "source": [
    "import numpy as np \n",
    "import sympy as sp "
   ]
  },
  {
   "cell_type": "code",
   "execution_count": 3,
   "id": "3d6c284c-1dd2-4775-9ec3-878a22ab2d20",
   "metadata": {},
   "outputs": [
    {
     "data": {
      "text/latex": [
       "$\\displaystyle \\left[\\begin{matrix}0.25\\\\0.75\\end{matrix}\\right]$"
      ],
      "text/plain": [
       "Matrix([\n",
       "[0.25],\n",
       "[0.75]])"
      ]
     },
     "execution_count": 3,
     "metadata": {},
     "output_type": "execute_result"
    }
   ],
   "source": [
    "p1 = np.array(\n",
    "    [\n",
    "        [1/4],\n",
    "        [3/4]\n",
    "    ]\n",
    ")\n",
    "\n",
    "sp.Matrix(p1)"
   ]
  },
  {
   "cell_type": "code",
   "execution_count": 9,
   "id": "a8b833df-7198-406b-b77a-fb0cc39bc72a",
   "metadata": {},
   "outputs": [
    {
     "data": {
      "text/plain": [
       "array([1, 1, 1, 1, 1, 1, 1, 0, 0, 1, 0, 1, 1, 1, 1, 0, 1, 1, 1, 1, 1, 1,\n",
       "       1, 1, 1, 1, 1, 1, 1, 0, 1, 1, 1, 1, 1, 1, 1, 1, 0, 0, 1, 1, 0, 1,\n",
       "       1, 0, 0, 1, 1, 1, 1, 1, 1, 1, 1, 1, 1, 1, 0, 1, 1, 0, 1, 0, 1, 1,\n",
       "       1, 1, 0, 1, 0, 1, 0, 1, 1, 1, 0, 0, 1, 1, 0, 1, 1, 1, 1, 1, 1, 1,\n",
       "       1, 1, 1, 1, 1, 0, 1, 1, 1, 0, 1, 0])"
      ]
     },
     "execution_count": 9,
     "metadata": {},
     "output_type": "execute_result"
    }
   ],
   "source": [
    "samples = np.random.choice([0,1], size=100, p=p1.reshape(-1))\n",
    "samples "
   ]
  },
  {
   "cell_type": "code",
   "execution_count": 15,
   "id": "a307804f-79a7-421e-8440-49bff5e6cce2",
   "metadata": {},
   "outputs": [
    {
     "data": {
      "text/plain": [
       "0.78"
      ]
     },
     "execution_count": 15,
     "metadata": {},
     "output_type": "execute_result"
    }
   ],
   "source": [
    "ones = np.count_nonzero(samples == 1 ) / 100\n",
    "ones"
   ]
  },
  {
   "cell_type": "code",
   "execution_count": 17,
   "id": "1a1f8542-3fa9-40b0-a78e-3f786f32fc60",
   "metadata": {},
   "outputs": [
    {
     "data": {
      "text/plain": [
       "0.22"
      ]
     },
     "execution_count": 17,
     "metadata": {},
     "output_type": "execute_result"
    }
   ],
   "source": [
    "zeros = np.count_nonzero(samples == 0 ) /100\n",
    "zeros "
   ]
  },
  {
   "cell_type": "code",
   "execution_count": 19,
   "id": "a5ff6d17-42b1-43ea-b931-7d74aee1394a",
   "metadata": {},
   "outputs": [
    {
     "name": "stdout",
     "output_type": "stream",
     "text": [
      "0.22 0.78\n"
     ]
    }
   ],
   "source": [
    "print(zeros, ones)"
   ]
  },
  {
   "cell_type": "code",
   "execution_count": 23,
   "id": "1b897e88-80c8-4c97-abff-276c653660ae",
   "metadata": {},
   "outputs": [
    {
     "data": {
      "text/latex": [
       "$\\displaystyle \\left[\\begin{matrix}0.5\\\\0.5\\end{matrix}\\right]$"
      ],
      "text/plain": [
       "Matrix([\n",
       "[0.5],\n",
       "[0.5]])"
      ]
     },
     "execution_count": 23,
     "metadata": {},
     "output_type": "execute_result"
    }
   ],
   "source": [
    "p2 = np.array(\n",
    "    [\n",
    "        [1/2],\n",
    "        [1/2]\n",
    "    ]\n",
    ")\n",
    "\n",
    "sp.Matrix(p2)"
   ]
  },
  {
   "cell_type": "code",
   "execution_count": 25,
   "id": "99f0ea91-9429-40b8-8357-b38072e137e9",
   "metadata": {},
   "outputs": [
    {
     "data": {
      "text/latex": [
       "$\\displaystyle \\left[\\begin{matrix}0.125\\\\0.375\\\\0.125\\\\0.375\\end{matrix}\\right]$"
      ],
      "text/plain": [
       "Matrix([\n",
       "[0.125],\n",
       "[0.375],\n",
       "[0.125],\n",
       "[0.375]])"
      ]
     },
     "execution_count": 25,
     "metadata": {},
     "output_type": "execute_result"
    }
   ],
   "source": [
    "p = np.kron(p2,p1)\n",
    "sp.Matrix(p)"
   ]
  },
  {
   "cell_type": "code",
   "execution_count": 41,
   "id": "257da698-e519-4822-bb28-cde7fd464fc7",
   "metadata": {},
   "outputs": [
    {
     "data": {
      "text/plain": [
       "array(['10', '11', '01', '10', '01', '01', '00', '11', '10', '11', '11',\n",
       "       '01', '01', '01', '01', '01', '11', '11', '11', '11', '10', '11',\n",
       "       '01', '11', '01', '10', '00', '01', '01', '11', '11', '10', '01',\n",
       "       '01', '11', '01', '11', '01', '11', '11', '00', '00', '01', '01',\n",
       "       '00', '01', '01', '00', '11', '01', '01', '00', '11', '01', '01',\n",
       "       '10', '11', '11', '10', '01', '00', '01', '01', '11', '11', '11',\n",
       "       '10', '10', '01', '11', '01', '01', '11', '00', '00', '01', '11',\n",
       "       '01', '11', '01', '10', '00', '11', '10', '11', '11', '01', '11',\n",
       "       '11', '01', '01', '11', '01', '00', '11', '10', '01', '10', '10',\n",
       "       '00'], dtype='<U2')"
      ]
     },
     "execution_count": 41,
     "metadata": {},
     "output_type": "execute_result"
    }
   ],
   "source": [
    "n_samples = 100\n",
    "samples = np.random.choice(['00','01','10','11'], size = n_samples, p = p.reshape(-1))\n",
    "samples"
   ]
  },
  {
   "cell_type": "code",
   "execution_count": 39,
   "id": "4704cbb4-c230-4774-80bb-115fe25c4462",
   "metadata": {},
   "outputs": [
    {
     "data": {
      "text/plain": [
       "0.1"
      ]
     },
     "execution_count": 39,
     "metadata": {},
     "output_type": "execute_result"
    }
   ],
   "source": [
    "zeros = np.count_nonzero(samples == 0 ) / n_samples \n",
    "zeros"
   ]
  },
  {
   "cell_type": "code",
   "execution_count": 45,
   "id": "3cf0bd4e-4a54-4ac5-a71d-e445f7f272fe",
   "metadata": {},
   "outputs": [
    {
     "data": {
      "text/plain": [
       "0.15"
      ]
     },
     "execution_count": 45,
     "metadata": {},
     "output_type": "execute_result"
    }
   ],
   "source": [
    "twos = np.count_nonzero(samples == '10')/n_samples\n",
    "twos"
   ]
  },
  {
   "cell_type": "code",
   "execution_count": null,
   "id": "7b5d5ee6-7597-4bae-8905-e773ece094c0",
   "metadata": {},
   "outputs": [],
   "source": []
  }
 ],
 "metadata": {
  "kernelspec": {
   "display_name": "Python 3 (ipykernel)",
   "language": "python",
   "name": "python3"
  },
  "language_info": {
   "codemirror_mode": {
    "name": "ipython",
    "version": 3
   },
   "file_extension": ".py",
   "mimetype": "text/x-python",
   "name": "python",
   "nbconvert_exporter": "python",
   "pygments_lexer": "ipython3",
   "version": "3.12.3"
  }
 },
 "nbformat": 4,
 "nbformat_minor": 5
}
