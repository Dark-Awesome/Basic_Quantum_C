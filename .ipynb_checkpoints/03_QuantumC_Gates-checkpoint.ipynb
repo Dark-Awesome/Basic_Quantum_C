{
 "cells": [
  {
   "cell_type": "code",
   "execution_count": 1,
   "id": "e03bd638-e119-4d96-a865-08cb62dbaa94",
   "metadata": {},
   "outputs": [],
   "source": [
    "import numpy as np \n",
    "import sympy as sp "
   ]
  },
  {
   "cell_type": "code",
   "execution_count": null,
   "id": "bcab49cc-0a4c-49da-a591-ecbbaa41ab05",
   "metadata": {},
   "outputs": [],
   "source": [
    "CCX = np.array(\n",
    "    [\n",
    "        [1,0,0,0,0,0,0,0],\n",
    "        [0,1,0,0,0,0,0,0],\n",
    "        [0,0,1,0,0,0,0,0],\n",
    "        [0,0,0,1,0,0,0,0],\n",
    "        [0,0,0,0,1,0,0,0],\n",
    "        [0,0,0,0,0,1,0,0],\n",
    "        [0,0,0,0,0,0,0,1],\n",
    "        [0,0,0,0,0,0,1,0],\n",
    "    ]\n",
    ")"
   ]
  }
 ],
 "metadata": {
  "kernelspec": {
   "display_name": "Python 3 (ipykernel)",
   "language": "python",
   "name": "python3"
  },
  "language_info": {
   "codemirror_mode": {
    "name": "ipython",
    "version": 3
   },
   "file_extension": ".py",
   "mimetype": "text/x-python",
   "name": "python",
   "nbconvert_exporter": "python",
   "pygments_lexer": "ipython3",
   "version": "3.12.3"
  }
 },
 "nbformat": 4,
 "nbformat_minor": 5
}
