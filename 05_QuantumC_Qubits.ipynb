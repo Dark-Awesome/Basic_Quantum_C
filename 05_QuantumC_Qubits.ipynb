{
 "cells": [
  {
   "cell_type": "code",
   "execution_count": 1,
   "id": "6ecd13c0-f8ae-487d-96c1-af4a39d4c0cb",
   "metadata": {},
   "outputs": [],
   "source": [
    "import numpy as np \n",
    "from qiskit.quantum_info import Statevector"
   ]
  },
  {
   "cell_type": "code",
   "execution_count": 7,
   "id": "cb805a84-2d81-4f91-a103-5e03cb78f73a",
   "metadata": {},
   "outputs": [
    {
     "name": "stdout",
     "output_type": "stream",
     "text": [
      "Statevector([1.+0.j, 0.+0.j],\n",
      "            dims=(2,))\n"
     ]
    }
   ],
   "source": [
    "ket_0 = Statevector([1,0])\n",
    "ket_0"
   ]
  },
  {
   "cell_type": "code",
   "execution_count": 9,
   "id": "f487b0b4-7064-4b4a-af1d-de6f03ca91f2",
   "metadata": {},
   "outputs": [
    {
     "data": {
      "text/plain": [
       "array([1., 0.])"
      ]
     },
     "execution_count": 9,
     "metadata": {},
     "output_type": "execute_result"
    }
   ],
   "source": [
    "ket_0.probabilities()"
   ]
  },
  {
   "cell_type": "code",
   "execution_count": 15,
   "id": "f95b0fbf-91c6-4667-9222-e2c498cf1ed6",
   "metadata": {},
   "outputs": [
    {
     "name": "stdout",
     "output_type": "stream",
     "text": [
      "Statevector([0.70710678+0.j, 0.70710678+0.j],\n",
      "            dims=(2,))\n"
     ]
    }
   ],
   "source": [
    "ket_p = Statevector([np.sqrt(1/2),np.sqrt(1/2)])\n",
    "ket_p"
   ]
  },
  {
   "cell_type": "code",
   "execution_count": 17,
   "id": "46ca4947-f8e8-4823-9484-a7096ddbff26",
   "metadata": {},
   "outputs": [
    {
     "data": {
      "text/latex": [
       "$$\n",
       "\n",
       "\\begin{bmatrix}\n",
       "\\frac{\\sqrt{2}}{2} & \\frac{\\sqrt{2}}{2}  \\\\\n",
       " \\end{bmatrix}\n",
       "$$"
      ],
      "text/plain": [
       "<IPython.core.display.Latex object>"
      ]
     },
     "execution_count": 17,
     "metadata": {},
     "output_type": "execute_result"
    }
   ],
   "source": [
    "ket_p.draw('latex', convention = 'vector')"
   ]
  },
  {
   "cell_type": "code",
   "execution_count": 23,
   "id": "da0594d8-eec3-4ff3-a4a8-c238ebab982f",
   "metadata": {},
   "outputs": [],
   "source": [
    "ket_m = Statevector.from_label('-')"
   ]
  },
  {
   "cell_type": "code",
   "execution_count": 27,
   "id": "f3bf7ca9-0647-4f8b-9563-fcff726f1aef",
   "metadata": {},
   "outputs": [
    {
     "data": {
      "text/latex": [
       "$$\n",
       "\n",
       "\\begin{bmatrix}\n",
       "\\frac{\\sqrt{2}}{2} & - \\frac{\\sqrt{2}}{2}  \\\\\n",
       " \\end{bmatrix}\n",
       "$$"
      ],
      "text/plain": [
       "<IPython.core.display.Latex object>"
      ]
     },
     "execution_count": 27,
     "metadata": {},
     "output_type": "execute_result"
    }
   ],
   "source": [
    "ket_m.draw('latex', convention = 'vector')"
   ]
  },
  {
   "cell_type": "code",
   "execution_count": 57,
   "id": "9ab322c6-ee4a-4a94-97e5-5ac66386b92d",
   "metadata": {},
   "outputs": [
    {
     "data": {
      "text/plain": [
       "{'0': 18, '1': 32}"
      ]
     },
     "execution_count": 57,
     "metadata": {},
     "output_type": "execute_result"
    }
   ],
   "source": [
    "ket_m.sample_counts(50)"
   ]
  },
  {
   "cell_type": "code",
   "execution_count": null,
   "id": "0ef7aa7f-9b21-461b-a2cd-a9a9b9ac1767",
   "metadata": {},
   "outputs": [],
   "source": []
  }
 ],
 "metadata": {
  "kernelspec": {
   "display_name": "Python 3 (ipykernel)",
   "language": "python",
   "name": "python3"
  },
  "language_info": {
   "codemirror_mode": {
    "name": "ipython",
    "version": 3
   },
   "file_extension": ".py",
   "mimetype": "text/x-python",
   "name": "python",
   "nbconvert_exporter": "python",
   "pygments_lexer": "ipython3",
   "version": "3.12.3"
  }
 },
 "nbformat": 4,
 "nbformat_minor": 5
}
