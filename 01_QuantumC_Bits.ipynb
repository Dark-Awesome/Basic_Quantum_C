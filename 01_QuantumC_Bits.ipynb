{
 "cells": [
  {
   "cell_type": "markdown",
   "id": "4af276d3-aee8-4b44-be63-aa7e2f7fae9e",
   "metadata": {},
   "source": [
    "### Classical Computing - Bits\n",
    "\n",
    "It's the most fundamental unit of information."
   ]
  },
  {
   "cell_type": "code",
   "execution_count": 4,
   "id": "b8c87298-8e78-4d04-b44d-7d45fcc9b589",
   "metadata": {},
   "outputs": [],
   "source": [
    "from qiskit import QuantumCircuit\n",
    "from qiskit.quantum_info import Statevector"
   ]
  },
  {
   "cell_type": "code",
   "execution_count": 66,
   "id": "512eb5ce-0ba7-4aab-afb7-ba80f24d6e0b",
   "metadata": {},
   "outputs": [
    {
     "name": "stdout",
     "output_type": "stream",
     "text": [
      "13\n"
     ]
    }
   ],
   "source": [
    "#binary number \n",
    "\n",
    "x = 0b1101 #this intially read it as binnary \n",
    "print(x)"
   ]
  },
  {
   "cell_type": "code",
   "execution_count": 10,
   "id": "67d59490-0c1e-46cf-b9fe-ac1a4bf3947c",
   "metadata": {},
   "outputs": [
    {
     "data": {
      "text/plain": [
       "5"
      ]
     },
     "execution_count": 10,
     "metadata": {},
     "output_type": "execute_result"
    }
   ],
   "source": [
    "0b11 + 0b10"
   ]
  },
  {
   "cell_type": "code",
   "execution_count": 12,
   "id": "ef9a932b-8909-43f3-bb90-0cccdddb9e30",
   "metadata": {},
   "outputs": [
    {
     "data": {
      "text/plain": [
       "'0b10010'"
      ]
     },
     "execution_count": 12,
     "metadata": {},
     "output_type": "execute_result"
    }
   ],
   "source": [
    "x = bin(18)\n",
    "x"
   ]
  },
  {
   "cell_type": "code",
   "execution_count": 14,
   "id": "724341a5-546a-40f3-a275-7006ff101cbf",
   "metadata": {},
   "outputs": [
    {
     "data": {
      "text/plain": [
       "str"
      ]
     },
     "execution_count": 14,
     "metadata": {},
     "output_type": "execute_result"
    }
   ],
   "source": [
    "type(x)"
   ]
  },
  {
   "cell_type": "code",
   "execution_count": 18,
   "id": "5b24efe0-62c6-4d1c-81e9-5b907f1eccbb",
   "metadata": {},
   "outputs": [
    {
     "data": {
      "text/plain": [
       "'0b1010b10'"
      ]
     },
     "execution_count": 18,
     "metadata": {},
     "output_type": "execute_result"
    }
   ],
   "source": [
    "bin(5) + bin(2) #concatinated the string"
   ]
  },
  {
   "cell_type": "code",
   "execution_count": 20,
   "id": "bf8af0ff-2cb2-4d05-992d-3fb6fc3e18a1",
   "metadata": {},
   "outputs": [
    {
     "data": {
      "text/plain": [
       "5"
      ]
     },
     "execution_count": 20,
     "metadata": {},
     "output_type": "execute_result"
    }
   ],
   "source": [
    "b1 = bin(5)\n",
    "b2 = bin(2)\n",
    "\n",
    "x1 = int(b1,2)\n",
    "x1"
   ]
  },
  {
   "cell_type": "code",
   "execution_count": 24,
   "id": "a3515d9c-1e41-4af1-9b11-fcfbba676731",
   "metadata": {},
   "outputs": [
    {
     "data": {
      "text/plain": [
       "7"
      ]
     },
     "execution_count": 24,
     "metadata": {},
     "output_type": "execute_result"
    }
   ],
   "source": [
    "x2 = int(b2,2)\n",
    "x1 + x2"
   ]
  },
  {
   "cell_type": "code",
   "execution_count": 26,
   "id": "08b56948-8f1b-4cc1-96bd-ba77e2948565",
   "metadata": {},
   "outputs": [
    {
     "data": {
      "text/plain": [
       "13"
      ]
     },
     "execution_count": 26,
     "metadata": {},
     "output_type": "execute_result"
    }
   ],
   "source": [
    "b3 = '1101'\n",
    "int(b3,2)"
   ]
  },
  {
   "cell_type": "code",
   "execution_count": 34,
   "id": "5400e571-7b38-4084-b973-d774cc4fc3de",
   "metadata": {},
   "outputs": [
    {
     "name": "stdout",
     "output_type": "stream",
     "text": [
      "0000\n",
      "0001\n",
      "0010\n",
      "0011\n",
      "0100\n",
      "0101\n",
      "0110\n",
      "0111\n"
     ]
    }
   ],
   "source": [
    "for i in range (8):\n",
    "    b = bin(i)[2:].zfill(4)\n",
    "    print(b)"
   ]
  },
  {
   "cell_type": "code",
   "execution_count": 36,
   "id": "02ab9b72-9094-4920-a662-3f3fd6e7d880",
   "metadata": {},
   "outputs": [],
   "source": [
    "import numpy as np "
   ]
  },
  {
   "cell_type": "code",
   "execution_count": 38,
   "id": "e82b0a3f-ae3c-4171-880b-5bd603b39aaa",
   "metadata": {},
   "outputs": [
    {
     "data": {
      "text/plain": [
       "'1101'"
      ]
     },
     "execution_count": 38,
     "metadata": {},
     "output_type": "execute_result"
    }
   ],
   "source": [
    "np.binary_repr(13,4)"
   ]
  },
  {
   "cell_type": "code",
   "execution_count": 44,
   "id": "f345e45f-29a6-4732-bf4c-87f992ac8bc9",
   "metadata": {},
   "outputs": [
    {
     "name": "stdout",
     "output_type": "stream",
     "text": [
      "0000 <class 'str'> 0\n",
      "0001 <class 'str'> 1\n",
      "0010 <class 'str'> 2\n",
      "0011 <class 'str'> 3\n",
      "0100 <class 'str'> 4\n",
      "0101 <class 'str'> 5\n",
      "0110 <class 'str'> 6\n",
      "0111 <class 'str'> 7\n"
     ]
    }
   ],
   "source": [
    "for i in range (8):\n",
    "    b = np.binary_repr(i,4)\n",
    "    print(b, type(b), i)"
   ]
  },
  {
   "cell_type": "markdown",
   "id": "773ad1d3-3044-403d-9d27-dda408823e38",
   "metadata": {},
   "source": [
    "### Boolean Logic"
   ]
  },
  {
   "cell_type": "code",
   "execution_count": 46,
   "id": "0508e473-3bf3-4589-86e0-4c0d6afbb2e6",
   "metadata": {},
   "outputs": [
    {
     "data": {
      "text/plain": [
       "0"
      ]
     },
     "execution_count": 46,
     "metadata": {},
     "output_type": "execute_result"
    }
   ],
   "source": [
    "#AND Operation\n",
    "0 & 0"
   ]
  },
  {
   "cell_type": "code",
   "execution_count": 50,
   "id": "25639d47-31fb-4324-8857-d32d4dd55701",
   "metadata": {},
   "outputs": [
    {
     "data": {
      "text/plain": [
       "99"
      ]
     },
     "execution_count": 50,
     "metadata": {},
     "output_type": "execute_result"
    }
   ],
   "source": [
    "1011 & 111"
   ]
  },
  {
   "cell_type": "code",
   "execution_count": 52,
   "id": "3688cd2c-14b7-47ce-b98e-ceaa006c294b",
   "metadata": {},
   "outputs": [
    {
     "data": {
      "text/plain": [
       "11"
      ]
     },
     "execution_count": 52,
     "metadata": {},
     "output_type": "execute_result"
    }
   ],
   "source": [
    "0b1011 & 0b1111"
   ]
  },
  {
   "cell_type": "code",
   "execution_count": 9,
   "id": "116175e5-a3b0-462c-baae-bf9c47d28ef9",
   "metadata": {},
   "outputs": [
    {
     "data": {
      "text/plain": [
       "'0b1011'"
      ]
     },
     "execution_count": 9,
     "metadata": {},
     "output_type": "execute_result"
    }
   ],
   "source": [
    "bin(0b1011 & 0b1111)"
   ]
  },
  {
   "cell_type": "code",
   "execution_count": 56,
   "id": "4b74300a-ba2a-4838-9fb7-bdb8c27d5c2d",
   "metadata": {},
   "outputs": [
    {
     "data": {
      "text/plain": [
       "'1011'"
      ]
     },
     "execution_count": 56,
     "metadata": {},
     "output_type": "execute_result"
    }
   ],
   "source": [
    "bin(0b1011 & 0b1111)[2:]"
   ]
  },
  {
   "cell_type": "code",
   "execution_count": 58,
   "id": "a5ba1b53-768a-46ec-84ca-6c504609bbcf",
   "metadata": {},
   "outputs": [
    {
     "data": {
      "text/plain": [
       "'1111'"
      ]
     },
     "execution_count": 58,
     "metadata": {},
     "output_type": "execute_result"
    }
   ],
   "source": [
    "# OR Operation\n",
    "bin(0b1011 | 0b1111)[2:]"
   ]
  },
  {
   "cell_type": "code",
   "execution_count": 60,
   "id": "4792db62-e7db-4dfc-8387-f4108db6f034",
   "metadata": {},
   "outputs": [
    {
     "data": {
      "text/plain": [
       "'100'"
      ]
     },
     "execution_count": 60,
     "metadata": {},
     "output_type": "execute_result"
    }
   ],
   "source": [
    "#XOR Operation\n",
    "bin(0b1011 ^ 0b1111)[2:]"
   ]
  },
  {
   "cell_type": "code",
   "execution_count": 62,
   "id": "6bd8cc64-f857-4b54-947c-a8a26606e106",
   "metadata": {},
   "outputs": [
    {
     "data": {
      "text/plain": [
       "1"
      ]
     },
     "execution_count": 62,
     "metadata": {},
     "output_type": "execute_result"
    }
   ],
   "source": [
    "0 ^ 1"
   ]
  },
  {
   "cell_type": "code",
   "execution_count": 64,
   "id": "1876bb34-9cc8-41f9-8754-2e0930b87ce5",
   "metadata": {},
   "outputs": [
    {
     "data": {
      "text/plain": [
       "0"
      ]
     },
     "execution_count": 64,
     "metadata": {},
     "output_type": "execute_result"
    }
   ],
   "source": [
    "1 ^ 1 "
   ]
  },
  {
   "cell_type": "code",
   "execution_count": 3,
   "id": "41fecfe3-510b-4282-99ee-d2a491edf664",
   "metadata": {},
   "outputs": [
    {
     "data": {
      "text/plain": [
       "'0b1110'"
      ]
     },
     "execution_count": 3,
     "metadata": {},
     "output_type": "execute_result"
    }
   ],
   "source": [
    "bin(0b1111 ^ 0b001) #important"
   ]
  },
  {
   "cell_type": "code",
   "execution_count": 7,
   "id": "279083e6-d3d5-48d7-9684-85225b66d928",
   "metadata": {},
   "outputs": [
    {
     "data": {
      "text/plain": [
       "'0b100'"
      ]
     },
     "execution_count": 7,
     "metadata": {},
     "output_type": "execute_result"
    }
   ],
   "source": [
    "bin(0b100 or 0b001) #we don't use it"
   ]
  },
  {
   "cell_type": "code",
   "execution_count": null,
   "id": "a5d859d3-2b15-4565-bb6a-e03997dd3332",
   "metadata": {},
   "outputs": [],
   "source": []
  }
 ],
 "metadata": {
  "kernelspec": {
   "display_name": "Python 3 (ipykernel)",
   "language": "python",
   "name": "python3"
  },
  "language_info": {
   "codemirror_mode": {
    "name": "ipython",
    "version": 3
   },
   "file_extension": ".py",
   "mimetype": "text/x-python",
   "name": "python",
   "nbconvert_exporter": "python",
   "pygments_lexer": "ipython3",
   "version": "3.12.3"
  }
 },
 "nbformat": 4,
 "nbformat_minor": 5
}
