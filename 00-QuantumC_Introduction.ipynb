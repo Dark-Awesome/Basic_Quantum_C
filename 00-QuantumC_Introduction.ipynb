{
 "cells": [
  {
   "cell_type": "markdown",
   "id": "93dc6817-3d82-4dd8-bf6a-95dfdbcb6dc8",
   "metadata": {},
   "source": [
    "Introduction to Quantum Computing"
   ]
  },
  {
   "cell_type": "code",
   "execution_count": 39,
   "id": "13f72a6f-94ae-4470-ac48-957e7acf20f4",
   "metadata": {},
   "outputs": [
    {
     "name": "stdout",
     "output_type": "stream",
     "text": [
      "Collecting qiskit\n",
      "  Using cached qiskit-1.4.0-cp39-abi3-win_amd64.whl.metadata (12 kB)\n",
      "Collecting rustworkx>=0.15.0 (from qiskit)\n",
      "  Using cached rustworkx-0.16.0-cp39-abi3-win_amd64.whl.metadata (10 kB)\n",
      "Requirement already satisfied: numpy<3,>=1.17 in c:\\users\\megha\\anaconda3\\lib\\site-packages (from qiskit) (1.26.4)\n",
      "Requirement already satisfied: scipy>=1.5 in c:\\users\\megha\\anaconda3\\lib\\site-packages (from qiskit) (1.14.1)\n",
      "Requirement already satisfied: sympy>=1.3 in c:\\users\\megha\\anaconda3\\lib\\site-packages (from qiskit) (1.12)\n",
      "Requirement already satisfied: dill>=0.3 in c:\\users\\megha\\anaconda3\\lib\\site-packages (from qiskit) (0.3.8)\n",
      "Requirement already satisfied: python-dateutil>=2.8.0 in c:\\users\\megha\\anaconda3\\lib\\site-packages (from qiskit) (2.9.0.post0)\n",
      "Collecting stevedore>=3.0.0 (from qiskit)\n",
      "  Using cached stevedore-5.4.1-py3-none-any.whl.metadata (2.3 kB)\n",
      "Requirement already satisfied: typing-extensions in c:\\users\\megha\\anaconda3\\lib\\site-packages (from qiskit) (4.11.0)\n",
      "Collecting symengine<0.14,>=0.11 (from qiskit)\n",
      "  Using cached symengine-0.13.0-cp312-cp312-win_amd64.whl.metadata (1.2 kB)\n",
      "Requirement already satisfied: six>=1.5 in c:\\users\\megha\\anaconda3\\lib\\site-packages (from python-dateutil>=2.8.0->qiskit) (1.16.0)\n",
      "Collecting pbr>=2.0.0 (from stevedore>=3.0.0->qiskit)\n",
      "  Using cached pbr-6.1.1-py2.py3-none-any.whl.metadata (3.4 kB)\n",
      "Requirement already satisfied: mpmath>=0.19 in c:\\users\\megha\\anaconda3\\lib\\site-packages (from sympy>=1.3->qiskit) (1.3.0)\n",
      "Requirement already satisfied: setuptools in c:\\users\\megha\\anaconda3\\lib\\site-packages (from pbr>=2.0.0->stevedore>=3.0.0->qiskit) (69.5.1)\n",
      "Using cached qiskit-1.4.0-cp39-abi3-win_amd64.whl (6.5 MB)\n",
      "Using cached rustworkx-0.16.0-cp39-abi3-win_amd64.whl (2.0 MB)\n",
      "Using cached stevedore-5.4.1-py3-none-any.whl (49 kB)\n",
      "Using cached symengine-0.13.0-cp312-cp312-win_amd64.whl (17.8 MB)\n",
      "Using cached pbr-6.1.1-py2.py3-none-any.whl (108 kB)\n",
      "Installing collected packages: symengine, rustworkx, pbr, stevedore, qiskit\n",
      "Successfully installed pbr-6.1.1 qiskit-1.4.0 rustworkx-0.16.0 stevedore-5.4.1 symengine-0.13.0\n",
      "Note: you may need to restart the kernel to use updated packages.\n"
     ]
    }
   ],
   "source": [
    "pip install qiskit"
   ]
  },
  {
   "cell_type": "code",
   "execution_count": 47,
   "id": "6095304d-85b0-4c7c-bac9-864ecad7a878",
   "metadata": {},
   "outputs": [
    {
     "name": "stdout",
     "output_type": "stream",
     "text": [
      "Collecting pylatexenc\n",
      "  Downloading pylatexenc-2.10.tar.gz (162 kB)\n",
      "     ---------------------------------------- 0.0/162.6 kB ? eta -:--:--\n",
      "     -- ------------------------------------- 10.2/162.6 kB ? eta -:--:--\n",
      "     -------------------------- ----------- 112.6/162.6 kB 1.3 MB/s eta 0:00:01\n",
      "     -------------------------------------- 162.6/162.6 kB 1.4 MB/s eta 0:00:00\n",
      "  Preparing metadata (setup.py): started\n",
      "  Preparing metadata (setup.py): finished with status 'done'\n",
      "Building wheels for collected packages: pylatexenc\n",
      "  Building wheel for pylatexenc (setup.py): started\n",
      "  Building wheel for pylatexenc (setup.py): finished with status 'done'\n",
      "  Created wheel for pylatexenc: filename=pylatexenc-2.10-py3-none-any.whl size=136848 sha256=599063973e0e47ebd4f8ca91e23805128702df8dd9212f91a435f42a5472d548\n",
      "  Stored in directory: c:\\users\\megha\\appdata\\local\\pip\\cache\\wheels\\06\\3e\\78\\fa1588c1ae991bbfd814af2bcac6cef7a178beee1939180d46\n",
      "Successfully built pylatexenc\n",
      "Installing collected packages: pylatexenc\n",
      "Successfully installed pylatexenc-2.10\n",
      "Note: you may need to restart the kernel to use updated packages.\n"
     ]
    }
   ],
   "source": [
    "pip install pylatexenc"
   ]
  },
  {
   "cell_type": "code",
   "execution_count": 1,
   "id": "ac21f4d4-f9d7-4bdb-8704-e578a9e1de5d",
   "metadata": {},
   "outputs": [],
   "source": [
    "from qiskit import QuantumCircuit\n",
    "from qiskit.quantum_info import Statevector"
   ]
  },
  {
   "cell_type": "code",
   "execution_count": 7,
   "id": "b6d5ffaf-ee3c-4be0-bfc9-b6641d6f89ce",
   "metadata": {},
   "outputs": [
    {
     "data": {
      "image/png": "[encoded data removed]",
      "text/plain": [
       "<Figure size 287.496x284.278 with 1 Axes>"
      ]
     },
     "execution_count": 7,
     "metadata": {},
     "output_type": "execute_result"
    }
   ],
   "source": [
    "qc = QuantumCircuit(3)\n",
    "\n",
    "qc.h(0)\n",
    "qc.h(1)\n",
    "qc.cx(1,2)\n",
    "qc.draw('mpl')"
   ]
  },
  {
   "cell_type": "code",
   "execution_count": 9,
   "id": "216b8b1a-fd97-4e23-9a90-caf7c596cea4",
   "metadata": {},
   "outputs": [
    {
     "data": {
      "text/latex": [
       "$$\\frac{1}{2} |000\\rangle+\\frac{1}{2} |001\\rangle+\\frac{1}{2} |110\\rangle+\\frac{1}{2} |111\\rangle$$"
      ],
      "text/plain": [
       "<IPython.core.display.Latex object>"
      ]
     },
     "execution_count": 9,
     "metadata": {},
     "output_type": "execute_result"
    }
   ],
   "source": [
    "Statevector(qc).draw('latex')"
   ]
  }
 ],
 "metadata": {
  "kernelspec": {
   "display_name": "Python 3 (ipykernel)",
   "language": "python",
   "name": "python3"
  },
  "language_info": {
   "codemirror_mode": {
    "name": "ipython",
    "version": 3
   },
   "file_extension": ".py",
   "mimetype": "text/x-python",
   "name": "python",
   "nbconvert_exporter": "python",
   "pygments_lexer": "ipython3",
   "version": "3.12.3"
  }
 },
 "nbformat": 4,
 "nbformat_minor": 5
}
