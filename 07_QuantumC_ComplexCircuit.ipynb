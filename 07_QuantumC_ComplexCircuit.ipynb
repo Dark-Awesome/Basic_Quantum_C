{
 "cells": [
  {
   "cell_type": "code",
   "execution_count": 23,
   "id": "c0cc17ee-e4bf-4d6b-9810-1a6a059c6be8",
   "metadata": {},
   "outputs": [],
   "source": [
    "from qiskit import QuantumCircuit\n",
    "from qiskit.quantum_info import Statevector, Operator \n",
    "from qiskit.providers.basic_provider import BasicSimulator\n",
    "from qiskit.visualization import plot_histogram"
   ]
  },
  {
   "cell_type": "code",
   "execution_count": 5,
   "id": "33958eab-13eb-47af-8c8e-350e3bc73fd4",
   "metadata": {},
   "outputs": [
    {
     "data": {
      "text/html": [
       "<pre style=\"word-wrap: normal;white-space: pre;background: #fff0;line-height: 1.1;font-family: &quot;Courier New&quot;,Courier,monospace\">     ┌───┐\n",
       "q_0: ┤ H ├\n",
       "     ├───┤\n",
       "q_1: ┤ H ├\n",
       "     ├───┤\n",
       "q_2: ┤ H ├\n",
       "     └───┘</pre>"
      ],
      "text/plain": [
       "     ┌───┐\n",
       "q_0: ┤ H ├\n",
       "     ├───┤\n",
       "q_1: ┤ H ├\n",
       "     ├───┤\n",
       "q_2: ┤ H ├\n",
       "     └───┘"
      ]
     },
     "execution_count": 5,
     "metadata": {},
     "output_type": "execute_result"
    }
   ],
   "source": [
    "qc = QuantumCircuit(3)\n",
    "qc.h([2,1,0])\n",
    "qc.draw()"
   ]
  },
  {
   "cell_type": "code",
   "execution_count": 7,
   "id": "8954810d-6488-4463-9920-37fe5cb37003",
   "metadata": {},
   "outputs": [
    {
     "data": {
      "text/html": [
       "<pre style=\"word-wrap: normal;white-space: pre;background: #fff0;line-height: 1.1;font-family: &quot;Courier New&quot;,Courier,monospace\">          ┌───┐     \n",
       "q_0: ─────┤ X ├─────\n",
       "     ┌───┐└─┬─┘┌───┐\n",
       "q_1: ┤ H ├──■──┤ X ├\n",
       "     └───┘     └───┘</pre>"
      ],
      "text/plain": [
       "          ┌───┐     \n",
       "q_0: ─────┤ X ├─────\n",
       "     ┌───┐└─┬─┘┌───┐\n",
       "q_1: ┤ H ├──■──┤ X ├\n",
       "     └───┘     └───┘"
      ]
     },
     "execution_count": 7,
     "metadata": {},
     "output_type": "execute_result"
    }
   ],
   "source": [
    "qc = QuantumCircuit(2)\n",
    "qc.h(1)\n",
    "qc.cx(1,0)\n",
    "qc.x(1)\n",
    "qc.draw()"
   ]
  },
  {
   "cell_type": "code",
   "execution_count": 11,
   "id": "79e38c63-c378-4029-ad8e-b8ce4b484628",
   "metadata": {},
   "outputs": [
    {
     "name": "stdout",
     "output_type": "stream",
     "text": [
      "Statevector([0.        +0.j, 0.70710678+0.j, 0.70710678+0.j,\n",
      "             0.        +0.j],\n",
      "            dims=(2, 2))\n"
     ]
    }
   ],
   "source": [
    "q = Statevector(qc)\n",
    "q"
   ]
  },
  {
   "cell_type": "code",
   "execution_count": 13,
   "id": "6d5bfb3c-cdac-4d65-b973-b8ccb11c7c95",
   "metadata": {},
   "outputs": [
    {
     "data": {
      "text/plain": [
       "{'01': 50, '10': 50}"
      ]
     },
     "execution_count": 13,
     "metadata": {},
     "output_type": "execute_result"
    }
   ],
   "source": [
    "counts_sv = q.sample_counts(100)\n",
    "counts_sv"
   ]
  },
  {
   "cell_type": "code",
   "execution_count": 15,
   "id": "958bad0e-7e81-48b2-8f2c-d4c8a2ea1a94",
   "metadata": {},
   "outputs": [
    {
     "data": {
      "text/html": [
       "<pre style=\"word-wrap: normal;white-space: pre;background: #fff0;line-height: 1.1;font-family: &quot;Courier New&quot;,Courier,monospace\">             ┌───┐      ░ ┌─┐   \n",
       "   q_0: ─────┤ X ├──────░─┤M├───\n",
       "        ┌───┐└─┬─┘┌───┐ ░ └╥┘┌─┐\n",
       "   q_1: ┤ H ├──■──┤ X ├─░──╫─┤M├\n",
       "        └───┘     └───┘ ░  ║ └╥┘\n",
       "meas: 2/═══════════════════╩══╩═\n",
       "                           0  1 </pre>"
      ],
      "text/plain": [
       "             ┌───┐      ░ ┌─┐   \n",
       "   q_0: ─────┤ X ├──────░─┤M├───\n",
       "        ┌───┐└─┬─┘┌───┐ ░ └╥┘┌─┐\n",
       "   q_1: ┤ H ├──■──┤ X ├─░──╫─┤M├\n",
       "        └───┘     └───┘ ░  ║ └╥┘\n",
       "meas: 2/═══════════════════╩══╩═\n",
       "                           0  1 "
      ]
     },
     "execution_count": 15,
     "metadata": {},
     "output_type": "execute_result"
    }
   ],
   "source": [
    "qc.measure_all()\n",
    "qc.draw()"
   ]
  },
  {
   "cell_type": "code",
   "execution_count": 19,
   "id": "75fb6d22-774c-47ee-aded-342d0b855dba",
   "metadata": {},
   "outputs": [],
   "source": [
    "sim = BasicSimulator()"
   ]
  },
  {
   "cell_type": "code",
   "execution_count": 21,
   "id": "250382b4-7222-4734-93c0-c75180d4d0af",
   "metadata": {},
   "outputs": [
    {
     "data": {
      "text/plain": [
       "{'10': 53, '01': 47}"
      ]
     },
     "execution_count": 21,
     "metadata": {},
     "output_type": "execute_result"
    }
   ],
   "source": [
    "count_sim = sim.run(qc,shots = 100).result().get_counts()\n",
    "count_sim"
   ]
  },
  {
   "cell_type": "code",
   "execution_count": 27,
   "id": "2125bd7d-46b9-4b03-882e-568bfcbda632",
   "metadata": {},
   "outputs": [
    {
     "data": {
      "image/png": "[encoded data removed]",
      "text/plain": [
       "<Figure size 640x480 with 1 Axes>"
      ]
     },
     "execution_count": 27,
     "metadata": {},
     "output_type": "execute_result"
    }
   ],
   "source": [
    "plot_histogram(count_sim)"
   ]
  }
 ],
 "metadata": {
  "kernelspec": {
   "display_name": "Python 3 (ipykernel)",
   "language": "python",
   "name": "python3"
  },
  "language_info": {
   "codemirror_mode": {
    "name": "ipython",
    "version": 3
   },
   "file_extension": ".py",
   "mimetype": "text/x-python",
   "name": "python",
   "nbconvert_exporter": "python",
   "pygments_lexer": "ipython3",
   "version": "3.12.3"
  }
 },
 "nbformat": 4,
 "nbformat_minor": 5
}
